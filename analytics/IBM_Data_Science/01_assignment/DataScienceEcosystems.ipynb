{
 "cells": [
  {
   "cell_type": "markdown",
   "id": "48685048-9af1-4c5a-9b9a-2578b2c009c0",
   "metadata": {},
   "source": [
    "# Data Science Tools and Ecosystem"
   ]
  },
  {
   "cell_type": "markdown",
   "id": "cb69c0d5-c049-4a8f-90a6-127f925f1c74",
   "metadata": {},
   "source": [
    "## Author\n",
    "Anthony"
   ]
  },
  {
   "cell_type": "markdown",
   "id": "0f916dc6-8a83-491b-89bb-8d2a9f92656b",
   "metadata": {},
   "source": [
    "In this section, data science tools and ecosystems are discussed."
   ]
  },
  {
   "cell_type": "markdown",
   "id": "c3495b77-a39c-4231-92be-a5a27fe7c436",
   "metadata": {},
   "source": [
    "**Objectives:**\n",
    "* list popular data science languages\n",
    "* list popular data science libraries\n",
    "* list popular open source data science IDEs\n",
    "* demonstrate Markdown formatting\n",
    "* demonstrate basic arithmetic operations in python"
   ]
  },
  {
   "cell_type": "markdown",
   "id": "47e2e123-2138-42ee-8379-f11427d3220e",
   "metadata": {},
   "source": [
    "Some of the popular languages that data scientists use are:\n",
    "1. Python\n",
    "2. R\n",
    "3. Julia\n",
    "4. Java\n",
    "5. C++"
   ]
  },
  {
   "cell_type": "markdown",
   "id": "47c85dc0-336a-4208-84f7-4001eb889844",
   "metadata": {},
   "source": [
    "Some of the libraries commonly used by data scientists include:\n",
    "1. numpy\n",
    "2. scipy\n",
    "3. matplotlib\n",
    "4. pandas\n",
    "5. Seaborn\n",
    "6. scikit-learn\n",
    "7. PyTorch\n",
    "8. TensorFlow"
   ]
  },
  {
   "cell_type": "markdown",
   "id": "f0446f76-6161-4e38-acb7-e8da6c704855",
   "metadata": {},
   "source": [
    "| Data Science Tools |\n",
    "----------------------\n",
    "| Spyder |\n",
    "| RStudio |\n",
    "| Jupyter Notebook |"
   ]
  },
  {
   "cell_type": "markdown",
   "id": "2f174295-fbe0-4ccb-96b7-25e70a33e699",
   "metadata": {},
   "source": [
    "### Here are a few examples of evaluating arithmetic expressions in python:"
   ]
  },
  {
   "cell_type": "code",
   "execution_count": 1,
   "id": "e6445a2c-70ea-4106-ace3-9a232f8067d2",
   "metadata": {},
   "outputs": [
    {
     "data": {
      "text/plain": [
       "17"
      ]
     },
     "execution_count": 1,
     "metadata": {},
     "output_type": "execute_result"
    }
   ],
   "source": [
    "# this is a simple arithmetic expression to multiply and then add numbers\n",
    "(3*4) + 5\n"
   ]
  },
  {
   "cell_type": "code",
   "execution_count": 3,
   "id": "6a42d22c-9bd8-4941-bccc-52e4fb4d0278",
   "metadata": {},
   "outputs": [
    {
     "data": {
      "text/plain": [
       "3.3333333333333335"
      ]
     },
     "execution_count": 3,
     "metadata": {},
     "output_type": "execute_result"
    }
   ],
   "source": [
    "# this expression converts 200 minutes into hours (60 min/hr)\n",
    "200/60"
   ]
  },
  {
   "cell_type": "code",
   "execution_count": null,
   "id": "07f7d9fe-8c56-4c36-8c6f-3166393aedc6",
   "metadata": {},
   "outputs": [],
   "source": []
  }
 ],
 "metadata": {
  "kernelspec": {
   "display_name": "Python 3 (ipykernel)",
   "language": "python",
   "name": "python3"
  },
  "language_info": {
   "codemirror_mode": {
    "name": "ipython",
    "version": 3
   },
   "file_extension": ".py",
   "mimetype": "text/x-python",
   "name": "python",
   "nbconvert_exporter": "python",
   "pygments_lexer": "ipython3",
   "version": "3.9.7"
  }
 },
 "nbformat": 4,
 "nbformat_minor": 5
}
